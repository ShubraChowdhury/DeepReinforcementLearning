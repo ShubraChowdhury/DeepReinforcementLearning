{
 "cells": [
  {
   "cell_type": "markdown",
   "metadata": {},
   "source": [
    "# Classifying Fashion-MNIST\n",
    "\n",
    "Now it's your turn to build and train a neural network. You'll be using the [Fashion-MNIST dataset](https://github.com/zalandoresearch/fashion-mnist), a drop-in replacement for the MNIST dataset. MNIST is actually quite trivial with neural networks where you can easily achieve better than 97% accuracy. Fashion-MNIST is a set of 28x28 greyscale images of clothes. It's more complex than MNIST, so it's a better representation of the actual performance of your network, and a better representation of datasets you'll use in the real world.\n",
    "\n",
    "<img src='assets/fashion-mnist-sprite.png' width=500px>\n",
    "\n",
    "In this notebook, you'll build your own neural network. For the most part, you could just copy and paste the code from Part 3, but you wouldn't be learning. It's important for you to write the code yourself and get it to work. Feel free to consult the previous notebook though as you work through this.\n",
    "\n",
    "First off, let's load the dataset through torchvision."
   ]
  },
  {
   "cell_type": "code",
   "execution_count": 2,
   "metadata": {},
   "outputs": [],
   "source": [
    "%matplotlib inline\n",
    "%config InlineBackend.figure_format = 'retina'\n",
    "\n",
    "import matplotlib.pyplot as plt\n",
    "import numpy as np\n",
    "import time\n",
    "\n",
    "import torch\n",
    "from torch import nn\n",
    "from torch import optim\n",
    "import torch.nn.functional as F\n",
    "from torchvision import datasets, transforms\n",
    "\n",
    "import helper"
   ]
  },
  {
   "cell_type": "code",
   "execution_count": 3,
   "metadata": {},
   "outputs": [],
   "source": [
    "\n",
    "# Define a transform to normalize the data\n",
    "transform = transforms.Compose([transforms.ToTensor(),\n",
    "                                transforms.Normalize((0.5, 0.5, 0.5), (0.5, 0.5, 0.5))])\n",
    "# Download and load the training data\n",
    "trainset = datasets.FashionMNIST('F_MNIST_data/', download=True, train=True, transform=transform)\n",
    "trainloader = torch.utils.data.DataLoader(trainset, batch_size=64, shuffle=True)\n",
    "\n",
    "# Download and load the test data\n",
    "testset = datasets.FashionMNIST('F_MNIST_data/', download=True, train=False, transform=transform)\n",
    "testloader = torch.utils.data.DataLoader(testset, batch_size=64, shuffle=True)"
   ]
  },
  {
   "cell_type": "markdown",
   "metadata": {},
   "source": [
    "Here we can see one of the images."
   ]
  },
  {
   "cell_type": "code",
   "execution_count": 9,
   "metadata": {},
   "outputs": [
    {
     "data": {
      "image/png": "[encoded data removed]",
      "text/plain": [
       "<Figure size 432x288 with 1 Axes>"
      ]
     },
     "metadata": {
      "image/png": {
       "height": 233,
       "width": 233
      }
     },
     "output_type": "display_data"
    }
   ],
   "source": [
    "image, label = next(iter(trainloader))\n",
    "helper.imshow(image[0,:]);"
   ]
  },
  {
   "cell_type": "markdown",
   "metadata": {},
   "source": [
    "With the data loaded, it's time to import the necessary packages."
   ]
  },
  {
   "cell_type": "markdown",
   "metadata": {},
   "source": [
    "## Building the network\n",
    "\n",
    "Here you should define your network. As with MNIST, each image is 28x28 which is a total of 784 pixels, and there are 10 classes. You should include at least one hidden layer. We suggest you use ReLU activations for the layers and to return the logits from the forward pass. It's up to you how many layers you add and the size of those layers."
   ]
  },
  {
   "cell_type": "code",
   "execution_count": 10,
   "metadata": {},
   "outputs": [],
   "source": [
    "# TODO: Define your network architecture here\n",
    "class Network(nn.Module):\n",
    "    def __init__(self, input_size, output_size, hidden_layers, drop_p=0.5):\n",
    "        ''' Builds a feedforward network with arbitrary hidden layers.\n",
    "        \n",
    "            Arguments\n",
    "            ---------\n",
    "            input_size: integer, size of the input\n",
    "            output_size: integer, size of the output layer\n",
    "            hidden_layers: list of integers, the sizes of the hidden layers\n",
    "            drop_p: float between 0 and 1, dropout probability\n",
    "        '''\n",
    "        super().__init__()\n",
    "        \n",
    "        # Add the first layer, input to a hidden layer\n",
    "        self.hidden_layers = nn.ModuleList([nn.Linear(input_size,hidden_layers[0])])\n",
    "        layer_sizes=zip(hidden_layers[:-1], hidden_layers[1:])\n",
    "        # Add a variable number of more hidden layers\n",
    "        self.hidden_layers.extend([nn.Linear(h1,h2) for h1,h2 in layer_sizes] )\n",
    "        self.output = nn.Linear(hidden_layers[-1],output_size)\n",
    "        self.dropout = nn.Dropout(p = drop_p)\n",
    "        \n",
    "\n",
    "        \n",
    "    def forward(self,x):\n",
    "        ''' Forward pass through the network, returns the output logits '''\n",
    "        \n",
    "        # Forward through each layer in `hidden_layers`, with ReLU activation and dropout\n",
    "        for linear in self.hidden_layers:\n",
    "            x = F.relu(linear(x))\n",
    "            x = self.dropout(x)\n",
    "        x = self.output(x)\n",
    "        return F.log_softmax(x, dim =1)\n",
    "\n"
   ]
  },
  {
   "cell_type": "markdown",
   "metadata": {},
   "source": [
    "# Train the network\n",
    "\n",
    "Now you should create your network and train it. First you'll want to define [the criterion](http://pytorch.org/docs/master/nn.html#loss-functions) ( something like `nn.CrossEntropyLoss`) and [the optimizer](http://pytorch.org/docs/master/optim.html) (typically `optim.SGD` or `optim.Adam`).\n",
    "\n",
    "Then write the training code. Remember the training pass is a fairly straightforward process:\n",
    "\n",
    "* Make a forward pass through the network to get the logits \n",
    "* Use the logits to calculate the loss\n",
    "* Perform a backward pass through the network with `loss.backward()` to calculate the gradients\n",
    "* Take a step with the optimizer to update the weights\n",
    "\n",
    "By adjusting the hyperparameters (hidden units, learning rate, etc), you should be able to get the training loss below 0.4."
   ]
  },
  {
   "cell_type": "code",
   "execution_count": 12,
   "metadata": {},
   "outputs": [],
   "source": [
    "model = Network(784, 10, [516, 256],  drop_p=0.5)"
   ]
  },
  {
   "cell_type": "code",
   "execution_count": 47,
   "metadata": {},
   "outputs": [
    {
     "data": {
      "text/plain": [
       "Network(\n",
       "  (hidden_layers): ModuleList(\n",
       "    (0): Linear(in_features=784, out_features=516, bias=True)\n",
       "    (1): Linear(in_features=516, out_features=256, bias=True)\n",
       "  )\n",
       "  (output): Linear(in_features=256, out_features=10, bias=True)\n",
       "  (dropout): Dropout(p=0.5)\n",
       ")"
      ]
     },
     "execution_count": 47,
     "metadata": {},
     "output_type": "execute_result"
    }
   ],
   "source": [
    "model"
   ]
  },
  {
   "cell_type": "code",
   "execution_count": 25,
   "metadata": {},
   "outputs": [],
   "source": [
    "# TODO: Create the network, define the criterion and optimizer\n",
    "criterion = nn.NLLLoss()\n",
    "\n",
    "optimizer = optim.Adam(model.parameters(), lr = 0.001)"
   ]
  },
  {
   "cell_type": "code",
   "execution_count": 27,
   "metadata": {},
   "outputs": [],
   "source": [
    "test_loss = 0\n",
    "images, labels =  next(iter(testloader))\n",
    "images.resize_(images.shape[0],784)\n",
    "output = model.forward(images)\n",
    "test_loss += criterion(output,labels).item()\n",
    "ps = torch.exp(output)"
   ]
  },
  {
   "cell_type": "code",
   "execution_count": 15,
   "metadata": {},
   "outputs": [
    {
     "data": {
      "text/plain": [
       "torch.Size([64, 10])"
      ]
     },
     "execution_count": 15,
     "metadata": {},
     "output_type": "execute_result"
    }
   ],
   "source": [
    "ps.size()"
   ]
  },
  {
   "cell_type": "code",
   "execution_count": 56,
   "metadata": {},
   "outputs": [
    {
     "data": {
      "text/plain": [
       "tensor([[0.1109, 0.1160, 0.0861, 0.1115, 0.1054, 0.0866, 0.0916, 0.0858, 0.0932,\n",
       "         0.1129],\n",
       "        [0.1178, 0.1004, 0.0847, 0.1152, 0.0894, 0.1138, 0.0995, 0.0910, 0.0909,\n",
       "         0.0974],\n",
       "        [0.1085, 0.0948, 0.0891, 0.1157, 0.0998, 0.0812, 0.1042, 0.0771, 0.1241,\n",
       "         0.1055],\n",
       "        [0.0947, 0.0670, 0.1004, 0.1102, 0.0953, 0.0729, 0.0907, 0.1410, 0.1140,\n",
       "         0.1139],\n",
       "        [0.1100, 0.0997, 0.1056, 0.0920, 0.0980, 0.0885, 0.1132, 0.1237, 0.0877,\n",
       "         0.0816],\n",
       "        [0.0814, 0.1143, 0.0876, 0.0939, 0.0751, 0.1021, 0.1096, 0.1047, 0.1053,\n",
       "         0.1261],\n",
       "        [0.1029, 0.1094, 0.1098, 0.1075, 0.1103, 0.0954, 0.0900, 0.0938, 0.0774,\n",
       "         0.1034],\n",
       "        [0.1120, 0.1038, 0.1012, 0.1112, 0.1116, 0.1023, 0.1002, 0.0655, 0.0942,\n",
       "         0.0980],\n",
       "        [0.1255, 0.0928, 0.1085, 0.0960, 0.0970, 0.0945, 0.0939, 0.0792, 0.1301,\n",
       "         0.0824],\n",
       "        [0.0962, 0.0947, 0.1153, 0.0932, 0.0935, 0.0955, 0.0737, 0.1099, 0.1135,\n",
       "         0.1144],\n",
       "        [0.1168, 0.0857, 0.0826, 0.1182, 0.0903, 0.0975, 0.0912, 0.0822, 0.1015,\n",
       "         0.1339],\n",
       "        [0.1211, 0.0973, 0.0874, 0.0925, 0.1027, 0.1113, 0.0946, 0.1305, 0.0704,\n",
       "         0.0921],\n",
       "        [0.1402, 0.0907, 0.0976, 0.1007, 0.0791, 0.1151, 0.0932, 0.0819, 0.1085,\n",
       "         0.0930],\n",
       "        [0.0921, 0.1168, 0.0770, 0.1140, 0.0825, 0.0835, 0.1216, 0.0976, 0.0950,\n",
       "         0.1198],\n",
       "        [0.1236, 0.1155, 0.0879, 0.1070, 0.0909, 0.0907, 0.0827, 0.0971, 0.0977,\n",
       "         0.1069],\n",
       "        [0.1090, 0.1057, 0.0910, 0.0998, 0.1008, 0.0963, 0.0981, 0.1178, 0.0947,\n",
       "         0.0868],\n",
       "        [0.1006, 0.0959, 0.1127, 0.0990, 0.0946, 0.0903, 0.0896, 0.1022, 0.1118,\n",
       "         0.1034],\n",
       "        [0.1011, 0.1106, 0.0985, 0.1147, 0.0901, 0.0737, 0.1066, 0.1052, 0.1097,\n",
       "         0.0898],\n",
       "        [0.0982, 0.1155, 0.0897, 0.1144, 0.0846, 0.0860, 0.0932, 0.0942, 0.1225,\n",
       "         0.1016],\n",
       "        [0.0988, 0.0910, 0.1086, 0.1080, 0.0958, 0.0816, 0.0986, 0.1144, 0.0930,\n",
       "         0.1103],\n",
       "        [0.1216, 0.0963, 0.0987, 0.1133, 0.0885, 0.0876, 0.0815, 0.1076, 0.0965,\n",
       "         0.1084],\n",
       "        [0.0861, 0.0963, 0.1109, 0.1096, 0.1286, 0.0842, 0.1110, 0.0899, 0.0912,\n",
       "         0.0923],\n",
       "        [0.1113, 0.0881, 0.0772, 0.1097, 0.0930, 0.0994, 0.1081, 0.1098, 0.1038,\n",
       "         0.0997],\n",
       "        [0.1014, 0.1252, 0.0891, 0.0823, 0.1017, 0.0724, 0.1074, 0.1162, 0.0977,\n",
       "         0.1067],\n",
       "        [0.1211, 0.0928, 0.0827, 0.1028, 0.1028, 0.0904, 0.0866, 0.1068, 0.0942,\n",
       "         0.1198],\n",
       "        [0.1061, 0.1008, 0.0887, 0.0920, 0.1011, 0.0982, 0.1234, 0.0797, 0.0953,\n",
       "         0.1145],\n",
       "        [0.0915, 0.0958, 0.1231, 0.0847, 0.0957, 0.0994, 0.1016, 0.1005, 0.0960,\n",
       "         0.1117],\n",
       "        [0.0909, 0.1089, 0.0950, 0.1000, 0.0731, 0.1193, 0.0927, 0.1225, 0.0960,\n",
       "         0.1014],\n",
       "        [0.0903, 0.1006, 0.0943, 0.1076, 0.0974, 0.0895, 0.0822, 0.0994, 0.1409,\n",
       "         0.0979],\n",
       "        [0.1016, 0.0985, 0.1220, 0.0738, 0.0978, 0.0929, 0.0850, 0.1135, 0.0916,\n",
       "         0.1234],\n",
       "        [0.1094, 0.1115, 0.1072, 0.0978, 0.0991, 0.0967, 0.1036, 0.0890, 0.0960,\n",
       "         0.0898],\n",
       "        [0.0774, 0.0861, 0.0801, 0.1064, 0.0956, 0.1128, 0.1460, 0.1055, 0.0819,\n",
       "         0.1082],\n",
       "        [0.0917, 0.1042, 0.1469, 0.0732, 0.1039, 0.1083, 0.0854, 0.0994, 0.0860,\n",
       "         0.1010],\n",
       "        [0.1303, 0.0984, 0.1182, 0.1130, 0.0915, 0.0773, 0.0967, 0.0934, 0.0775,\n",
       "         0.1036],\n",
       "        [0.1253, 0.0907, 0.0848, 0.0958, 0.1003, 0.0949, 0.0883, 0.1180, 0.0973,\n",
       "         0.1046],\n",
       "        [0.1006, 0.0941, 0.1129, 0.1141, 0.0955, 0.0929, 0.0946, 0.0865, 0.0946,\n",
       "         0.1144],\n",
       "        [0.0959, 0.0905, 0.0979, 0.1008, 0.1049, 0.1035, 0.0965, 0.1016, 0.0943,\n",
       "         0.1141],\n",
       "        [0.0842, 0.0993, 0.0882, 0.1182, 0.0930, 0.0955, 0.1112, 0.0999, 0.1031,\n",
       "         0.1074],\n",
       "        [0.1060, 0.1145, 0.1003, 0.0809, 0.0961, 0.0975, 0.1221, 0.0941, 0.1053,\n",
       "         0.0833],\n",
       "        [0.1197, 0.1046, 0.0930, 0.0848, 0.1046, 0.1002, 0.1045, 0.0928, 0.0879,\n",
       "         0.1079],\n",
       "        [0.0959, 0.1047, 0.0846, 0.1250, 0.0740, 0.0957, 0.0847, 0.1258, 0.1218,\n",
       "         0.0879],\n",
       "        [0.1037, 0.1041, 0.0941, 0.0991, 0.0842, 0.1075, 0.0975, 0.1073, 0.0910,\n",
       "         0.1114],\n",
       "        [0.1118, 0.1094, 0.1024, 0.1010, 0.0978, 0.0900, 0.1019, 0.0790, 0.1018,\n",
       "         0.1049],\n",
       "        [0.1043, 0.0940, 0.1095, 0.0975, 0.0943, 0.1123, 0.1041, 0.0999, 0.0830,\n",
       "         0.1011],\n",
       "        [0.1379, 0.0901, 0.0719, 0.1121, 0.0705, 0.0823, 0.0926, 0.1075, 0.1157,\n",
       "         0.1194],\n",
       "        [0.1703, 0.1218, 0.0748, 0.0785, 0.0906, 0.0961, 0.0917, 0.0900, 0.0778,\n",
       "         0.1083],\n",
       "        [0.1149, 0.1029, 0.1078, 0.0778, 0.0994, 0.1095, 0.0830, 0.1046, 0.1149,\n",
       "         0.0853],\n",
       "        [0.1153, 0.0876, 0.1247, 0.0913, 0.0902, 0.1025, 0.0970, 0.1112, 0.0859,\n",
       "         0.0943],\n",
       "        [0.1009, 0.0972, 0.1020, 0.0879, 0.0942, 0.0914, 0.1036, 0.1204, 0.0993,\n",
       "         0.1031],\n",
       "        [0.1035, 0.0846, 0.1238, 0.0826, 0.0861, 0.1104, 0.1146, 0.1027, 0.0851,\n",
       "         0.1066],\n",
       "        [0.1018, 0.0909, 0.0877, 0.0812, 0.0838, 0.1167, 0.1144, 0.1096, 0.1171,\n",
       "         0.0967],\n",
       "        [0.0905, 0.0903, 0.1053, 0.1025, 0.1032, 0.0928, 0.1081, 0.0911, 0.1116,\n",
       "         0.1046],\n",
       "        [0.1070, 0.1433, 0.1083, 0.0901, 0.0940, 0.0792, 0.1117, 0.0914, 0.0786,\n",
       "         0.0964],\n",
       "        [0.1010, 0.1227, 0.0818, 0.0837, 0.1119, 0.0905, 0.0971, 0.0943, 0.1095,\n",
       "         0.1075],\n",
       "        [0.0988, 0.0918, 0.1039, 0.0870, 0.1095, 0.0994, 0.1136, 0.1012, 0.0967,\n",
       "         0.0982],\n",
       "        [0.1052, 0.0954, 0.1212, 0.0978, 0.0970, 0.0756, 0.1034, 0.0834, 0.0993,\n",
       "         0.1218],\n",
       "        [0.1114, 0.0903, 0.1359, 0.0847, 0.1083, 0.0817, 0.1266, 0.0913, 0.0879,\n",
       "         0.0818],\n",
       "        [0.0928, 0.0931, 0.1065, 0.1145, 0.0987, 0.0848, 0.0672, 0.1225, 0.1053,\n",
       "         0.1146],\n",
       "        [0.0843, 0.0901, 0.1203, 0.0885, 0.1252, 0.0721, 0.1181, 0.1183, 0.0814,\n",
       "         0.1017],\n",
       "        [0.1115, 0.0763, 0.1057, 0.1219, 0.0893, 0.1123, 0.1210, 0.0922, 0.0772,\n",
       "         0.0927],\n",
       "        [0.0993, 0.0931, 0.0840, 0.0977, 0.0833, 0.0928, 0.0907, 0.1086, 0.1173,\n",
       "         0.1333],\n",
       "        [0.1086, 0.1236, 0.1128, 0.0824, 0.1028, 0.0915, 0.0915, 0.0949, 0.1044,\n",
       "         0.0874],\n",
       "        [0.1269, 0.1130, 0.0885, 0.0992, 0.0891, 0.0975, 0.1159, 0.0997, 0.0935,\n",
       "         0.0768],\n",
       "        [0.0974, 0.1100, 0.0981, 0.1202, 0.0972, 0.0770, 0.1021, 0.0867, 0.1164,\n",
       "         0.0952]], grad_fn=<ExpBackward>)"
      ]
     },
     "execution_count": 56,
     "metadata": {},
     "output_type": "execute_result"
    }
   ],
   "source": [
    "ps"
   ]
  },
  {
   "cell_type": "code",
   "execution_count": 73,
   "metadata": {},
   "outputs": [
    {
     "data": {
      "text/plain": [
       "(tensor([0.1189, 0.1330, 0.1254, 0.1307, 0.1118, 0.1283, 0.1301, 0.1455, 0.1388,\n",
       "         0.1186, 0.1258, 0.1266, 0.1672, 0.1235, 0.1209, 0.1425, 0.1212, 0.1272,\n",
       "         0.1174, 0.1258, 0.1250, 0.1389, 0.1788, 0.1157, 0.1473, 0.1181, 0.1541,\n",
       "         0.1258, 0.1155, 0.1345, 0.1182, 0.1152, 0.1200, 0.1255, 0.1298, 0.1272,\n",
       "         0.1269, 0.1324, 0.1218, 0.1232, 0.1267, 0.1171, 0.1177, 0.1184, 0.1247,\n",
       "         0.1207, 0.1379, 0.1266, 0.1297, 0.1297, 0.1266, 0.1199, 0.1317, 0.1119,\n",
       "         0.1142, 0.1394, 0.1250, 0.1226, 0.1410, 0.1249, 0.1179, 0.1170, 0.1192,\n",
       "         0.1224], grad_fn=<MaxBackward0>),\n",
       " tensor([4, 6, 6, 0, 6, 0, 2, 6, 2, 6, 8, 0, 6, 2, 6, 2, 4, 9, 6, 2, 2, 6, 6, 6,\n",
       "         6, 4, 6, 9, 5, 6, 0, 0, 6, 6, 2, 6, 0, 0, 0, 4, 2, 5, 9, 4, 2, 9, 6, 6,\n",
       "         6, 6, 8, 2, 6, 5, 6, 0, 6, 2, 6, 6, 9, 1, 6, 0]))"
      ]
     },
     "execution_count": 73,
     "metadata": {},
     "output_type": "execute_result"
    }
   ],
   "source": [
    "ps.max(dim =1)"
   ]
  },
  {
   "cell_type": "code",
   "execution_count": 74,
   "metadata": {},
   "outputs": [
    {
     "data": {
      "text/plain": [
       "tensor([4, 6, 6, 0, 6, 0, 2, 6, 2, 6, 8, 0, 6, 2, 6, 2, 4, 9, 6, 2, 2, 6, 6, 6,\n",
       "        6, 4, 6, 9, 5, 6, 0, 0, 6, 6, 2, 6, 0, 0, 0, 4, 2, 5, 9, 4, 2, 9, 6, 6,\n",
       "        6, 6, 8, 2, 6, 5, 6, 0, 6, 2, 6, 6, 9, 1, 6, 0])"
      ]
     },
     "execution_count": 74,
     "metadata": {},
     "output_type": "execute_result"
    }
   ],
   "source": [
    "ps.max(dim =1)[1]"
   ]
  },
  {
   "cell_type": "code",
   "execution_count": 28,
   "metadata": {},
   "outputs": [],
   "source": [
    "equality = (labels.data == ps.max(dim =1)[1])"
   ]
  },
  {
   "cell_type": "code",
   "execution_count": 17,
   "metadata": {},
   "outputs": [
    {
     "data": {
      "text/plain": [
       "tensor([1, 0, 0, 0, 0, 1, 0, 0, 0, 1, 0, 0, 0, 0, 0, 0, 0, 0, 0, 0, 1, 1, 0, 0,\n",
       "        0, 1, 0, 0, 0, 0, 0, 0, 0, 0, 0, 0, 0, 0, 0, 0, 0, 0, 0, 0, 0, 0, 0, 0,\n",
       "        0, 1, 0, 0, 0, 1, 0, 0, 0, 0, 0, 0, 0, 0, 0, 0], dtype=torch.uint8)"
      ]
     },
     "execution_count": 17,
     "metadata": {},
     "output_type": "execute_result"
    }
   ],
   "source": [
    "equality"
   ]
  },
  {
   "cell_type": "code",
   "execution_count": 29,
   "metadata": {},
   "outputs": [],
   "source": [
    "accuracy = equality.type(torch.FloatTensor).mean()"
   ]
  },
  {
   "cell_type": "code",
   "execution_count": 30,
   "metadata": {},
   "outputs": [
    {
     "data": {
      "text/plain": [
       "tensor(0.0781)"
      ]
     },
     "execution_count": 30,
     "metadata": {},
     "output_type": "execute_result"
    }
   ],
   "source": [
    "accuracy"
   ]
  },
  {
   "cell_type": "markdown",
   "metadata": {},
   "source": [
    "# ALL TOGETHER FOR VALIDATION"
   ]
  },
  {
   "cell_type": "code",
   "execution_count": 31,
   "metadata": {},
   "outputs": [],
   "source": [
    "def validation(model,testloader,cretiron):\n",
    "    test_loss = 0\n",
    "    accuracy =0\n",
    "    for images, labels in testloader:\n",
    "        images.resize_(images.shape[0],784)\n",
    "        output = model.forward(images)\n",
    "        test_loss += cretiron(output,labels).item()\n",
    "        ps = torch.exp(output)\n",
    "        equality = (labels.data == ps.max(dim =1)[1])\n",
    "        accuracy += equality.type(torch.FloatTensor).mean()\n",
    "        \n",
    "    return test_loss,accuracy"
   ]
  },
  {
   "cell_type": "code",
   "execution_count": 32,
   "metadata": {},
   "outputs": [
    {
     "name": "stdout",
     "output_type": "stream",
     "text": [
      "Epoch: 1/2...  TrainingLoss: 1.2760 Test Loss: 0.7687 Test Accuracy: 0.7093\n",
      "Epoch: 1/2...  TrainingLoss: 0.8140 Test Loss: 0.6629 Test Accuracy: 0.7459\n",
      "Epoch: 1/2...  TrainingLoss: 0.7383 Test Loss: 0.6121 Test Accuracy: 0.7649\n",
      "Epoch: 1/2...  TrainingLoss: 0.6813 Test Loss: 0.5793 Test Accuracy: 0.7838\n",
      "Epoch: 1/2...  TrainingLoss: 0.6356 Test Loss: 0.5577 Test Accuracy: 0.7948\n",
      "Epoch: 1/2...  TrainingLoss: 0.6204 Test Loss: 0.5362 Test Accuracy: 0.8033\n",
      "Epoch: 1/2...  TrainingLoss: 0.5900 Test Loss: 0.5270 Test Accuracy: 0.8024\n",
      "Epoch: 1/2...  TrainingLoss: 0.6312 Test Loss: 0.5375 Test Accuracy: 0.8021\n",
      "Epoch: 1/2...  TrainingLoss: 0.6077 Test Loss: 0.5102 Test Accuracy: 0.8108\n",
      "Epoch: 1/2...  TrainingLoss: 0.5780 Test Loss: 0.4994 Test Accuracy: 0.8172\n",
      "Epoch: 1/2...  TrainingLoss: 0.5721 Test Loss: 0.5076 Test Accuracy: 0.8062\n",
      "Epoch: 1/2...  TrainingLoss: 0.5526 Test Loss: 0.4942 Test Accuracy: 0.8166\n",
      "Epoch: 1/2...  TrainingLoss: 0.5691 Test Loss: 0.4987 Test Accuracy: 0.8143\n",
      "Epoch: 1/2...  TrainingLoss: 0.5733 Test Loss: 0.4875 Test Accuracy: 0.8252\n",
      "Epoch: 1/2...  TrainingLoss: 0.4928 Test Loss: 0.4710 Test Accuracy: 0.8302\n",
      "Epoch: 1/2...  TrainingLoss: 0.5270 Test Loss: 0.4656 Test Accuracy: 0.8317\n",
      "Epoch: 1/2...  TrainingLoss: 0.5415 Test Loss: 0.4806 Test Accuracy: 0.8197\n",
      "Epoch: 1/2...  TrainingLoss: 0.4923 Test Loss: 0.4610 Test Accuracy: 0.8341\n",
      "Epoch: 1/2...  TrainingLoss: 0.5315 Test Loss: 0.4633 Test Accuracy: 0.8274\n",
      "Epoch: 1/2...  TrainingLoss: 0.5400 Test Loss: 0.4612 Test Accuracy: 0.8326\n",
      "Epoch: 1/2...  TrainingLoss: 0.5200 Test Loss: 0.4895 Test Accuracy: 0.8149\n",
      "Epoch: 1/2...  TrainingLoss: 0.5273 Test Loss: 0.4648 Test Accuracy: 0.8291\n",
      "Epoch: 1/2...  TrainingLoss: 0.5171 Test Loss: 0.4614 Test Accuracy: 0.8280\n",
      "Epoch: 2/2...  TrainingLoss: 0.4998 Test Loss: 0.4485 Test Accuracy: 0.8332\n",
      "Epoch: 2/2...  TrainingLoss: 0.5217 Test Loss: 0.4628 Test Accuracy: 0.8307\n",
      "Epoch: 2/2...  TrainingLoss: 0.5170 Test Loss: 0.4645 Test Accuracy: 0.8356\n",
      "Epoch: 2/2...  TrainingLoss: 0.5042 Test Loss: 0.4429 Test Accuracy: 0.8379\n",
      "Epoch: 2/2...  TrainingLoss: 0.4717 Test Loss: 0.4821 Test Accuracy: 0.8285\n",
      "Epoch: 2/2...  TrainingLoss: 0.4690 Test Loss: 0.4631 Test Accuracy: 0.8281\n",
      "Epoch: 2/2...  TrainingLoss: 0.5121 Test Loss: 0.4490 Test Accuracy: 0.8362\n",
      "Epoch: 2/2...  TrainingLoss: 0.4930 Test Loss: 0.4466 Test Accuracy: 0.8405\n",
      "Epoch: 2/2...  TrainingLoss: 0.5083 Test Loss: 0.4401 Test Accuracy: 0.8380\n",
      "Epoch: 2/2...  TrainingLoss: 0.4681 Test Loss: 0.4554 Test Accuracy: 0.8351\n",
      "Epoch: 2/2...  TrainingLoss: 0.4976 Test Loss: 0.4311 Test Accuracy: 0.8432\n",
      "Epoch: 2/2...  TrainingLoss: 0.5005 Test Loss: 0.4337 Test Accuracy: 0.8417\n",
      "Epoch: 2/2...  TrainingLoss: 0.4663 Test Loss: 0.4430 Test Accuracy: 0.8370\n",
      "Epoch: 2/2...  TrainingLoss: 0.4950 Test Loss: 0.4589 Test Accuracy: 0.8353\n",
      "Epoch: 2/2...  TrainingLoss: 0.4849 Test Loss: 0.4420 Test Accuracy: 0.8395\n",
      "Epoch: 2/2...  TrainingLoss: 0.4706 Test Loss: 0.4337 Test Accuracy: 0.8424\n",
      "Epoch: 2/2...  TrainingLoss: 0.4967 Test Loss: 0.4392 Test Accuracy: 0.8406\n",
      "Epoch: 2/2...  TrainingLoss: 0.5091 Test Loss: 0.4277 Test Accuracy: 0.8411\n",
      "Epoch: 2/2...  TrainingLoss: 0.4623 Test Loss: 0.4452 Test Accuracy: 0.8327\n",
      "Epoch: 2/2...  TrainingLoss: 0.4790 Test Loss: 0.4280 Test Accuracy: 0.8424\n",
      "Epoch: 2/2...  TrainingLoss: 0.4527 Test Loss: 0.4151 Test Accuracy: 0.8515\n",
      "Epoch: 2/2...  TrainingLoss: 0.4458 Test Loss: 0.4154 Test Accuracy: 0.8479\n",
      "Epoch: 2/2...  TrainingLoss: 0.4809 Test Loss: 0.4365 Test Accuracy: 0.8373\n"
     ]
    }
   ],
   "source": [
    "# TODO: Train the network here\n",
    "epochs = 2\n",
    "print_every = 40\n",
    "steps = 0\n",
    "running_loss=0\n",
    "for e in range(epochs):\n",
    "    model.train()\n",
    "    for images, labels in trainloader:\n",
    "        steps += 1\n",
    "        # Flatten MNIST images into a 784 long vector\n",
    "        images.resize_(images.size()[0], 784)\n",
    "        \n",
    "        optimizer.zero_grad()\n",
    "        \n",
    "        # Forward and backward passes\n",
    "        output = model.forward(images)\n",
    "        loss = criterion(output, labels)\n",
    "        loss.backward()\n",
    "        optimizer.step()\n",
    "        \n",
    "        running_loss += loss.item()\n",
    "        \n",
    "        if steps % print_every == 0:\n",
    "            model.eval()\n",
    "            with torch.no_grad():\n",
    "                test_loss, accuracy = validation(model,testloader,cretiron)\n",
    "                \n",
    "            print(\"Epoch: {}/{}... \".format(e+1, epochs),\n",
    "                  \"TrainingLoss: {:.4f}\".format(running_loss/print_every),\n",
    "                 \"Test Loss: {:.4f}\".format(test_loss/len(testloader)),\n",
    "                 \"Test Accuracy: {:.4f}\".format(accuracy/len(testloader)))\n",
    "            \n",
    "            running_loss = 0\n",
    "            model.train()\n"
   ]
  },
  {
   "cell_type": "markdown",
   "metadata": {},
   "source": [
    "## Inference\n",
    "\n",
    "Now that the model is trained, we can use it for inference. We've done this before, but now we need to remember to set the model in inference mode with `model.eval()`. You'll also want to turn off autograd with the `torch.no_grad()` context."
   ]
  },
  {
   "cell_type": "code",
   "execution_count": 40,
   "metadata": {},
   "outputs": [
    {
     "data": {
      "image/png": "[encoded data removed]",
      "text/plain": [
       "<Figure size 432x648 with 2 Axes>"
      ]
     },
     "metadata": {
      "image/png": {
       "height": 204,
       "width": 423
      }
     },
     "output_type": "display_data"
    }
   ],
   "source": [
    "# Test out your network!\n",
    "\n",
    "model.eval()\n",
    "\n",
    "dataiter = iter(testloader)\n",
    "images, labels = dataiter.next()\n",
    "img = images[0]\n",
    "# Convert 2D image to 1D vector\n",
    "img = img.view(1, 784)\n",
    "\n",
    "# Calculate the class probabilities (softmax) for img\n",
    "with torch.no_grad():\n",
    "    output = model.forward(img)\n",
    "\n",
    "ps = torch.exp(output)\n",
    "\n",
    "# Plot the image and probabilities\n",
    "helper.view_classify(img.view(1, 28, 28), ps, version='Fashion')"
   ]
  },
  {
   "cell_type": "code",
   "execution_count": 41,
   "metadata": {},
   "outputs": [
    {
     "data": {
      "image/png": "[encoded data removed]",
      "text/plain": [
       "<Figure size 432x648 with 2 Axes>"
      ]
     },
     "metadata": {
      "image/png": {
       "height": 204,
       "width": 423
      }
     },
     "output_type": "display_data"
    }
   ],
   "source": [
    "# Test out your network!\n",
    "\n",
    "dataiter = iter(testloader)\n",
    "images, labels = dataiter.next()\n",
    "img = images[0]\n",
    "# Convert 2D image to 1D vector\n",
    "img = img.resize_(1, 784)\n",
    "\n",
    "with torch.no_grad():\n",
    "    logits = model.forward(img)\n",
    "    \n",
    "# TODO: Calculate the class probabilities (softmax) for img\n",
    "ps = F.softmax(logits, dim=1)\n",
    "\n",
    "# Plot the image and probabilities\n",
    "helper.view_classify(img.resize_(1, 28, 28), ps, version='Fashion')"
   ]
  },
  {
   "cell_type": "code",
   "execution_count": 46,
   "metadata": {},
   "outputs": [
    {
     "data": {
      "image/png": "[encoded data removed]",
      "text/plain": [
       "<Figure size 432x648 with 2 Axes>"
      ]
     },
     "metadata": {
      "image/png": {
       "height": 204,
       "width": 423
      }
     },
     "output_type": "display_data"
    }
   ],
   "source": [
    "# Test out your network!\n",
    "\n",
    "dataiter = iter(testloader)\n",
    "images, labels = dataiter.next()\n",
    "img = images[0]\n",
    "# Convert 2D image to 1D vector\n",
    "img = img.resize_(1, 784)\n",
    "\n",
    "logits = model.forward(img)\n",
    "    \n",
    "# TODO: Calculate the class probabilities (softmax) for img\n",
    "ps = F.softmax(logits, dim=1)\n",
    "\n",
    "# Plot the image and probabilities\n",
    "helper.view_classify(img.resize_(1, 28, 28), ps, version='Fashion')"
   ]
  },
  {
   "cell_type": "markdown",
   "metadata": {},
   "source": [
    "Now that your network is trained, you'll want to save it to disk so you can load it later instead of training it again. Obviously, it's impractical to train a network every time you need one. In practice, you'll train it once, save the model, then reload it for further training or making predictions. In the next part, I'll show you how to save and load trained models."
   ]
  }
 ],
 "metadata": {
  "kernelspec": {
   "display_name": "Python 3",
   "language": "python",
   "name": "python3"
  },
  "language_info": {
   "codemirror_mode": {
    "name": "ipython",
    "version": 3
   },
   "file_extension": ".py",
   "mimetype": "text/x-python",
   "name": "python",
   "nbconvert_exporter": "python",
   "pygments_lexer": "ipython3",
   "version": "3.6.5"
  }
 },
 "nbformat": 4,
 "nbformat_minor": 2
}
