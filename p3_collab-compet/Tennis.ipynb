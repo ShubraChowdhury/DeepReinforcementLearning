{
 "cells": [
  {
   "cell_type": "markdown",
   "metadata": {},
   "source": [
    "# Collaboration and Competition\n",
    "\n",
    "---\n",
    "\n",
    "In this notebook, you will learn how to use the Unity ML-Agents environment for the third project of the [Deep Reinforcement Learning Nanodegree](https://www.udacity.com/course/deep-reinforcement-learning-nanodegree--nd893) program.\n",
    "\n",
    "### 1. Start the Environment\n",
    "\n",
    "We begin by importing the necessary packages.  If the code cell below returns an error, please revisit the project instructions to double-check that you have installed [Unity ML-Agents](https://github.com/Unity-Technologies/ml-agents/blob/master/docs/Installation.md) and [NumPy](http://www.numpy.org/)."
   ]
  },
  {
   "cell_type": "code",
   "execution_count": 1,
   "metadata": {},
   "outputs": [],
   "source": [
    "from unityagents import UnityEnvironment\n",
    "import numpy as np\n",
    "import random\n",
    "import torch\n",
    "import numpy as np\n",
    "from collections import deque\n",
    "import matplotlib.pyplot as plt\n",
    "import time\n",
    "from itertools import count\n",
    "%matplotlib inline\n",
    "\n",
    "from ddpg_agent import Agent"
   ]
  },
  {
   "cell_type": "markdown",
   "metadata": {},
   "source": [
    "Next, we will start the environment!  **_Before running the code cell below_**, change the `file_name` parameter to match the location of the Unity environment that you downloaded.\n",
    "\n",
    "- **Mac**: `\"path/to/Tennis.app\"`\n",
    "- **Windows** (x86): `\"path/to/Tennis_Windows_x86/Tennis.exe\"`\n",
    "- **Windows** (x86_64): `\"path/to/Tennis_Windows_x86_64/Tennis.exe\"`\n",
    "- **Linux** (x86): `\"path/to/Tennis_Linux/Tennis.x86\"`\n",
    "- **Linux** (x86_64): `\"path/to/Tennis_Linux/Tennis.x86_64\"`\n",
    "- **Linux** (x86, headless): `\"path/to/Tennis_Linux_NoVis/Tennis.x86\"`\n",
    "- **Linux** (x86_64, headless): `\"path/to/Tennis_Linux_NoVis/Tennis.x86_64\"`\n",
    "\n",
    "For instance, if you are using a Mac, then you downloaded `Tennis.app`.  If this file is in the same folder as the notebook, then the line below should appear as follows:\n",
    "```\n",
    "env = UnityEnvironment(file_name=\"Tennis.app\")\n",
    "```"
   ]
  },
  {
   "cell_type": "code",
   "execution_count": 2,
   "metadata": {},
   "outputs": [
    {
     "name": "stderr",
     "output_type": "stream",
     "text": [
      "INFO:unityagents:\n",
      "'Academy' started successfully!\n",
      "Unity Academy name: Academy\n",
      "        Number of Brains: 1\n",
      "        Number of External Brains : 1\n",
      "        Lesson number : 0\n",
      "        Reset Parameters :\n",
      "\t\t\n",
      "Unity brain name: TennisBrain\n",
      "        Number of Visual Observations (per agent): 0\n",
      "        Vector Observation space type: continuous\n",
      "        Vector Observation space size (per agent): 8\n",
      "        Number of stacked Vector Observation: 3\n",
      "        Vector Action space type: continuous\n",
      "        Vector Action space size (per agent): 2\n",
      "        Vector Action descriptions: , \n"
     ]
    }
   ],
   "source": [
    "env = UnityEnvironment(file_name='Tennis_Windows_x86_64/Tennis.exe')"
   ]
  },
  {
   "cell_type": "markdown",
   "metadata": {},
   "source": [
    "Environments contain **_brains_** which are responsible for deciding the actions of their associated agents. Here we check for the first brain available, and set it as the default brain we will be controlling from Python."
   ]
  },
  {
   "cell_type": "code",
   "execution_count": 3,
   "metadata": {},
   "outputs": [],
   "source": [
    "# get the default brain\n",
    "brain_name = env.brain_names[0]\n",
    "brain = env.brains[brain_name]"
   ]
  },
  {
   "cell_type": "code",
   "execution_count": 4,
   "metadata": {},
   "outputs": [
    {
     "data": {
      "text/plain": [
       "'TennisBrain'"
      ]
     },
     "execution_count": 4,
     "metadata": {},
     "output_type": "execute_result"
    }
   ],
   "source": [
    "brain_name"
   ]
  },
  {
   "cell_type": "markdown",
   "metadata": {},
   "source": [
    "### 2. Examine the State and Action Spaces\n",
    "\n",
    "In this environment, two agents control rackets to bounce a ball over a net. If an agent hits the ball over the net, it receives a reward of +0.1.  If an agent lets a ball hit the ground or hits the ball out of bounds, it receives a reward of -0.01.  Thus, the goal of each agent is to keep the ball in play.\n",
    "\n",
    "The observation space consists of 8 variables corresponding to the position and velocity of the ball and racket. Two continuous actions are available, corresponding to movement toward (or away from) the net, and jumping. \n",
    "\n",
    "Run the code cell below to print some information about the environment."
   ]
  },
  {
   "cell_type": "code",
   "execution_count": 5,
   "metadata": {},
   "outputs": [
    {
     "name": "stdout",
     "output_type": "stream",
     "text": [
      "Number of agents: 2\n",
      "Size of each action: 2\n",
      "There are 2 agents. Each observes a state with length: 24\n",
      "The state for the first agent looks like: [ 0.          0.          0.          0.          0.          0.\n",
      "  0.          0.          0.          0.          0.          0.\n",
      "  0.          0.          0.          0.         -6.65278625 -1.5\n",
      " -0.          0.          6.83172083  6.         -0.          0.        ]\n"
     ]
    }
   ],
   "source": [
    "# reset the environment\n",
    "env_info = env.reset(train_mode=True)[brain_name]\n",
    "\n",
    "# number of agents \n",
    "num_agents = len(env_info.agents)\n",
    "print('Number of agents:', num_agents)\n",
    "\n",
    "# size of each action\n",
    "action_size = brain.vector_action_space_size\n",
    "print('Size of each action:', action_size)\n",
    "\n",
    "# examine the state space \n",
    "states = env_info.vector_observations\n",
    "state_size = states.shape[1]\n",
    "print('There are {} agents. Each observes a state with length: {}'.format(states.shape[0], state_size))\n",
    "print('The state for the first agent looks like:', states[0])"
   ]
  },
  {
   "cell_type": "code",
   "execution_count": 6,
   "metadata": {},
   "outputs": [],
   "source": [
    "agent=Agent(state_size=state_size, action_size=action_size, random_seed=2,num_agents=num_agents)\n",
    "agent_object = [Agent(state_size=state_size, action_size=action_size, random_seed=2,num_agents=num_agents) for _ in range(num_agents)]"
   ]
  },
  {
   "cell_type": "code",
   "execution_count": 7,
   "metadata": {},
   "outputs": [
    {
     "name": "stdout",
     "output_type": "stream",
     "text": [
      "0 942\n",
      "1 952\n",
      "\n",
      "0 <ddpg_agent.Agent object at 0x00000229251EA5F8>\n",
      "1 <ddpg_agent.Agent object at 0x00000229252154E0>\n"
     ]
    }
   ],
   "source": [
    "for idx, agent_name in enumerate(env_info.agents):\n",
    "    print(idx,agent_name )\n",
    "print()    \n",
    "for idx, agent_name in enumerate(agent_object):\n",
    "    print(idx,agent_name )"
   ]
  },
  {
   "cell_type": "markdown",
   "metadata": {},
   "source": [
    "### 3. Take Random Actions in the Environment\n",
    "\n",
    "In the next code cell, you will learn how to use the Python API to control the agents and receive feedback from the environment.\n",
    "\n",
    "Once this cell is executed, you will watch the agents' performance, if they select actions at random with each time step.  A window should pop up that allows you to observe the agents.\n",
    "\n",
    "Of course, as part of the project, you'll have to change the code so that the agents are able to use their experiences to gradually choose better actions when interacting with the environment!"
   ]
  },
  {
   "cell_type": "code",
   "execution_count": null,
   "metadata": {},
   "outputs": [],
   "source": [
    "for i in range(1, 6):                                      # play game for 5 episodes\n",
    "    env_info = env.reset(train_mode=False)[brain_name]     # reset the environment    \n",
    "    states = env_info.vector_observations                  # get the current state (for each agent)\n",
    "    scores = np.zeros(num_agents)                          # initialize the score (for each agent)\n",
    "    while True:\n",
    "        actions = np.random.randn(num_agents, action_size) # select an action (for each agent)\n",
    "        actions = np.clip(actions, -1, 1)                  # all actions between -1 and 1\n",
    "        env_info = env.step(actions)[brain_name]           # send all actions to tne environment\n",
    "        next_states = env_info.vector_observations         # get next state (for each agent)\n",
    "        rewards = env_info.rewards                         # get reward (for each agent)\n",
    "        dones = env_info.local_done                        # see if episode finished\n",
    "        scores += env_info.rewards                         # update the score (for each agent)\n",
    "        states = next_states                               # roll over states to next time step\n",
    "        if np.any(dones):                                  # exit loop if episode finished\n",
    "            break\n",
    "    print('Score (max over agents) from episode {}: {}'.format(i, np.max(scores)))"
   ]
  },
  {
   "cell_type": "markdown",
   "metadata": {},
   "source": [
    "When finished, you can close the environment."
   ]
  },
  {
   "cell_type": "markdown",
   "metadata": {},
   "source": [
    "### 4. It's Your Turn!\n",
    "\n",
    "Now it's your turn to train your own agent to solve the environment!  When training the environment, set `train_mode=True`, so that the line for resetting the environment looks like the following:\n",
    "```python\n",
    "env_info = env.reset(train_mode=True)[brain_name]\n",
    "```"
   ]
  },
  {
   "cell_type": "code",
   "execution_count": 8,
   "metadata": {},
   "outputs": [
    {
     "name": "stderr",
     "output_type": "stream",
     "text": [
      "D:\\Anaconda3\\lib\\site-packages\\torch\\nn\\functional.py:995: UserWarning: nn.functional.tanh is deprecated. Use torch.tanh instead.\n",
      "  warnings.warn(\"nn.functional.tanh is deprecated. Use torch.tanh instead.\")\n"
     ]
    },
    {
     "name": "stdout",
     "output_type": "stream",
     "text": [
      "Episode:  100   Episode Score: 0.00   Average Score: 0.0056\n",
      "Episode:  200   Episode Score: 0.00   Average Score: 0.0010\n",
      "Episode:  300   Episode Score: 0.00   Average Score: 0.0000\n",
      "Episode:  400   Episode Score: 0.00   Average Score: 0.0000\n",
      "Episode:  500   Episode Score: 0.09   Average Score: 0.0225\n",
      "Episode:  600   Episode Score: 0.20   Average Score: 0.0460\n",
      "Episode:  700   Episode Score: 0.10   Average Score: 0.0867\n",
      "Episode:  800   Episode Score: 0.10   Average Score: 0.1425\n",
      "Episode:  900   Episode Score: 0.20   Average Score: 0.1836\n",
      "Episode: 1000   Episode Score: 0.10   Average Score: 0.2382\n",
      "Episode: 1077   Episode Score: 2.60   Average Score: 0.5066........Environment solved in  time 1912.06\n",
      "Episode: 1100   Episode Score: 2.60   Average Score: 0.9401\n",
      "Episode: 1200   Episode Score: 2.60   Average Score: 1.6532\n",
      "Episode: 1300   Episode Score: 2.60   Average Score: 1.9366\n",
      "Episode: 1400   Episode Score: 0.39   Average Score: 1.7060\n",
      "Episode: 1500   Episode Score: 1.49   Average Score: 1.9726\n",
      "Episode: 1600   Episode Score: 0.10   Average Score: 1.9760\n",
      "Episode: 1636   Episode Score: 0.80   Average Score: 1.6327\n",
      "\n",
      "Maximum Average Score (over 100 episodes): 2.1498  at Episode: 1542\n"
     ]
    }
   ],
   "source": [
    "def ddpg(n_episodes=5000, max_t=1000,print_every=100,window_size=100):\n",
    "    scores_deque = deque(maxlen=window_size) # last 100 scores\n",
    "    scores_list = []\n",
    "    average_score_list = []\n",
    "    excess_episode =500\n",
    "    excess_average_score = 0.5\n",
    "    env_solv = False\n",
    "    episode_required = 0 # Go 100 more episode beyond episode when environment is solved ==n_episodes\n",
    "    maximum_average_score = 0 # maximum average score including episode_required\n",
    "    maximum_episode = 0 # episode at which i get maximum_average_score\n",
    "    \n",
    "    start_time = time.time()\n",
    "    for i_episode in range(1, n_episodes+1):\n",
    "        scores = np.zeros(num_agents)\n",
    "        env_info = env.reset(train_mode=True)[brain_name]\n",
    "        states = env_info.vector_observations                  # get the current state (for each agent)\n",
    "        agent.reset()\n",
    "        \n",
    "        for ts in range(max_t):\n",
    "            actions = agent.act(states)\n",
    "            env_info = env.step(actions)[brain_name]\n",
    "            next_states = env_info.vector_observations         # get next state (for each agent)\n",
    "            rewards = env_info.rewards                         # get reward (for each agent)\n",
    "            dones = env_info.local_done                        # see if episode finished\n",
    "            \n",
    "\n",
    "            agent.step_and_buff(states, actions, rewards, next_states, dones,ts)\n",
    "            states  = next_states\n",
    "            scores += rewards                                  # update the score (for each agent)\n",
    "            if np.any(dones):                                  # exit loop if episode finished\n",
    "                break\n",
    "                \n",
    "        score = np.max(scores)        \n",
    "        scores_list.append(score)\n",
    "        scores_deque.append(score)\n",
    "\n",
    "        average_score = np.average(scores_deque)\n",
    "        average_score_list.append(average_score)   \n",
    "            \n",
    "        print(\"\\rEpisode: {:4d}   Episode Score: {:.2f}   Average Score: {:.4f}\".format(i_episode,score,average_score), end=\"\")\n",
    "        if i_episode >= 100:\n",
    "            if not env_solv:\n",
    "                if average_score >= 0.5:\n",
    "                    end_time = time.time()\n",
    "                    print(\"........Environment solved\", \"in  time {:.2f}\".format( end_time-start_time))\n",
    "                    episode_required = i_episode + excess_episode\n",
    "                    env_solv = True\n",
    "            elif maximum_average_score < average_score:\n",
    "                maximum_average_score = average_score\n",
    "                maximum_episode = i_episode\n",
    "\n",
    "                \n",
    "        if i_episode % print_every == 0:\n",
    "            print(\"\\rEpisode: {:4d}   Episode Score: {:.2f}   Average Score: {:.4f}\".format(i_episode,score,average_score))\n",
    "            for idx, agent_name in enumerate(agent_object):\n",
    "                torch.save(agent_name.actor_local.state_dict(), \"actor_checkpoint_\" + str(idx) + \".pth\")\n",
    "                torch.save(agent_name.critic_local.state_dict(), \"critic_checkpoint_\" + str(idx) + \".pth\")            \n",
    "            \n",
    "        if i_episode >= episode_required and average_score + excess_average_score < maximum_average_score:\n",
    "                break\n",
    "    print()            \n",
    "    print(\"\\n\\rMaximum Average Score (over 100 episodes): {:.4f}  at Episode: {:4d}\".format(maximum_average_score,maximum_episode))\n",
    "    \n",
    "    return scores_list,average_score_list\n",
    "\n",
    "scores,averages = ddpg()"
   ]
  },
  {
   "cell_type": "code",
   "execution_count": 9,
   "metadata": {},
   "outputs": [
    {
     "data": {
      "image/png": "[encoded data removed]",
      "text/plain": [
       "<Figure size 432x288 with 1 Axes>"
      ]
     },
     "metadata": {},
     "output_type": "display_data"
    }
   ],
   "source": [
    "fig = plt.figure()\n",
    "ax = fig.add_subplot(111)\n",
    "plt.plot(np.arange(1, len(scores)+1), scores)\n",
    "plt.plot(np.arange(1, len(averages)+1), averages)\n",
    "plt.ylabel('Score')\n",
    "plt.xlabel('Episode #')\n",
    "plt.show()"
   ]
  },
  {
   "cell_type": "code",
   "execution_count": 10,
   "metadata": {},
   "outputs": [],
   "source": [
    "env.close()"
   ]
  },
  {
   "cell_type": "code",
   "execution_count": null,
   "metadata": {},
   "outputs": [],
   "source": []
  }
 ],
 "metadata": {
  "kernelspec": {
   "display_name": "Python 3",
   "language": "python",
   "name": "python3"
  },
  "language_info": {
   "codemirror_mode": {
    "name": "ipython",
    "version": 3
   },
   "file_extension": ".py",
   "mimetype": "text/x-python",
   "name": "python",
   "nbconvert_exporter": "python",
   "pygments_lexer": "ipython3",
   "version": "3.6.5"
  }
 },
 "nbformat": 4,
 "nbformat_minor": 2
}
